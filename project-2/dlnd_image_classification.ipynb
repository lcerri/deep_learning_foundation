{
 "cells": [
  {
   "cell_type": "markdown",
   "metadata": {
    "collapsed": true
   },
   "source": [
    "# Image Classification\n",
    "In this project, you'll classify images from the [CIFAR-10 dataset](https://www.cs.toronto.edu/~kriz/cifar.html).  The dataset consists of airplanes, dogs, cats, and other objects. You'll preprocess the images, then train a convolutional neural network on all the samples. The images need to be normalized and the labels need to be one-hot encoded.  You'll get to apply what you learned and build a convolutional, max pooling, dropout, and fully connected layers.  At the end, you'll get to see your neural network's predictions on the sample images.\n",
    "## Get the Data\n",
    "Run the following cell to download the [CIFAR-10 dataset for python](https://www.cs.toronto.edu/~kriz/cifar-10-python.tar.gz)."
   ]
  },
  {
   "cell_type": "code",
   "execution_count": 1,
   "metadata": {},
   "outputs": [
    {
     "name": "stdout",
     "output_type": "stream",
     "text": [
      "All files found!\n"
     ]
    }
   ],
   "source": [
    "\"\"\"\n",
    "DON'T MODIFY ANYTHING IN THIS CELL THAT IS BELOW THIS LINE\n",
    "\"\"\"\n",
    "from urllib.request import urlretrieve\n",
    "from os.path import isfile, isdir\n",
    "from tqdm import tqdm\n",
    "import problem_unittests as tests\n",
    "import tarfile\n",
    "\n",
    "cifar10_dataset_folder_path = 'cifar-10-batches-py'\n",
    "\n",
    "class DLProgress(tqdm):\n",
    "    last_block = 0\n",
    "\n",
    "    def hook(self, block_num=1, block_size=1, total_size=None):\n",
    "        self.total = total_size\n",
    "        self.update((block_num - self.last_block) * block_size)\n",
    "        self.last_block = block_num\n",
    "\n",
    "if not isfile('cifar-10-python.tar.gz'):\n",
    "    with DLProgress(unit='B', unit_scale=True, miniters=1, desc='CIFAR-10 Dataset') as pbar:\n",
    "        urlretrieve(\n",
    "            'https://www.cs.toronto.edu/~kriz/cifar-10-python.tar.gz',\n",
    "            'cifar-10-python.tar.gz',\n",
    "            pbar.hook)\n",
    "\n",
    "if not isdir(cifar10_dataset_folder_path):\n",
    "    with tarfile.open('cifar-10-python.tar.gz') as tar:\n",
    "        tar.extractall()\n",
    "        tar.close()\n",
    "\n",
    "\n",
    "tests.test_folder_path(cifar10_dataset_folder_path)"
   ]
  },
  {
   "cell_type": "markdown",
   "metadata": {},
   "source": [
    "## Explore the Data\n",
    "The dataset is broken into batches to prevent your machine from running out of memory.  The CIFAR-10 dataset consists of 5 batches, named `data_batch_1`, `data_batch_2`, etc.. Each batch contains the labels and images that are one of the following:\n",
    "* airplane\n",
    "* automobile\n",
    "* bird\n",
    "* cat\n",
    "* deer\n",
    "* dog\n",
    "* frog\n",
    "* horse\n",
    "* ship\n",
    "* truck\n",
    "\n",
    "Understanding a dataset is part of making predictions on the data.  Play around with the code cell below by changing the `batch_id` and `sample_id`. The `batch_id` is the id for a batch (1-5). The `sample_id` is the id for a image and label pair in the batch.\n",
    "\n",
    "Ask yourself \"What are all possible labels?\", \"What is the range of values for the image data?\", \"Are the labels in order or random?\".  Answers to questions like these will help you preprocess the data and end up with better predictions."
   ]
  },
  {
   "cell_type": "code",
   "execution_count": 3,
   "metadata": {},
   "outputs": [
    {
     "name": "stdout",
     "output_type": "stream",
     "text": [
      "\n",
      "Stats of batch 1:\n",
      "Samples: 10000\n",
      "Label Counts: {0: 1005, 1: 974, 2: 1032, 3: 1016, 4: 999, 5: 937, 6: 1030, 7: 1001, 8: 1025, 9: 981}\n",
      "First 20 Labels: [6, 9, 9, 4, 1, 1, 2, 7, 8, 3, 4, 7, 7, 2, 9, 9, 9, 3, 2, 6]\n",
      "\n",
      "Example of Image 2:\n",
      "Image - Min Value: 20 Max Value: 255\n",
      "Image - Shape: (32, 32, 3)\n",
      "Label - Label Id: 9 Name: truck\n"
     ]
    },
    {
     "data": {
      "image/png": "[encoded data removed]",
      "text/plain": [
       "<matplotlib.figure.Figure at 0x7fd4c7d3e908>"
      ]
     },
     "metadata": {
      "image/png": {
       "height": 250,
       "width": 253
      }
     },
     "output_type": "display_data"
    }
   ],
   "source": [
    "%matplotlib inline\n",
    "%config InlineBackend.figure_format = 'retina'\n",
    "\n",
    "\n",
    "import helper\n",
    "import numpy as np\n",
    "\n",
    "# Explore the dataset\n",
    "batch_id = 1\n",
    "sample_id = 2\n",
    "helper.display_stats(cifar10_dataset_folder_path, batch_id, sample_id)"
   ]
  },
  {
   "cell_type": "markdown",
   "metadata": {},
   "source": [
    "## Implement Preprocess Functions\n",
    "### Normalize\n",
    "In the cell below, implement the `normalize` function to take in image data, `x`, and return it as a normalized Numpy array. The values should be in the range of 0 to 1, inclusive.  The return object should be the same shape as `x`."
   ]
  },
  {
   "cell_type": "code",
   "execution_count": 4,
   "metadata": {},
   "outputs": [
    {
     "name": "stdout",
     "output_type": "stream",
     "text": [
      "Tests Passed\n"
     ]
    }
   ],
   "source": [
    "def normalize(x):\n",
    "    \"\"\"\n",
    "    Normalize a list of sample image data in the range of 0 to 1\n",
    "    : x: List of image data.  The image shape is (32, 32, 3)\n",
    "    : return: Numpy array of normalize data\n",
    "    \"\"\"\n",
    "\n",
    "    gray_min = 0\n",
    "    gray_max = 255\n",
    "    \n",
    "    a = 0.1\n",
    "    b = 0.9\n",
    "    \n",
    "    return a + ( ( (x - gray_min)*(b - a) )/( gray_max - gray_min ) )\n",
    "\n",
    "\"\"\"\n",
    "DON'T MODIFY ANYTHING IN THIS CELL THAT IS BELOW THIS LINE\n",
    "\"\"\"\n",
    "tests.test_normalize(normalize)"
   ]
  },
  {
   "cell_type": "markdown",
   "metadata": {},
   "source": [
    "### One-hot encode\n",
    "Just like the previous code cell, you'll be implementing a function for preprocessing.  This time, you'll implement the `one_hot_encode` function. The input, `x`, are a list of labels.  Implement the function to return the list of labels as One-Hot encoded Numpy array.  The possible values for labels are 0 to 9. The one-hot encoding function should return the same encoding for each value between each call to `one_hot_encode`.  Make sure to save the map of encodings outside the function.\n",
    "\n",
    "Hint: Don't reinvent the wheel."
   ]
  },
  {
   "cell_type": "code",
   "execution_count": 5,
   "metadata": {},
   "outputs": [
    {
     "name": "stdout",
     "output_type": "stream",
     "text": [
      "Tests Passed\n"
     ]
    }
   ],
   "source": [
    "from sklearn.preprocessing import LabelBinarizer\n",
    "\n",
    "def one_hot_encode(x):\n",
    "    \"\"\"\n",
    "    One hot encode a list of sample labels. Return a one-hot encoded vector for each label.\n",
    "    : x: List of sample Labels\n",
    "    : return: Numpy array of one-hot encoded labels\n",
    "    \"\"\"\n",
    "    \n",
    "    encoder = LabelBinarizer()\n",
    "    encoder.fit(range(10))\n",
    "    encoder.get_params()\n",
    "    return encoder.transform(x)\n",
    "\n",
    "\n",
    "\n",
    "\"\"\"\n",
    "DON'T MODIFY ANYTHING IN THIS CELL THAT IS BELOW THIS LINE\n",
    "\"\"\"\n",
    "tests.test_one_hot_encode(one_hot_encode)"
   ]
  },
  {
   "cell_type": "markdown",
   "metadata": {},
   "source": [
    "### Randomize Data\n",
    "As you saw from exploring the data above, the order of the samples are randomized.  It doesn't hurt to randomize it again, but you don't need to for this dataset."
   ]
  },
  {
   "cell_type": "markdown",
   "metadata": {},
   "source": [
    "## Preprocess all the data and save it\n",
    "Running the code cell below will preprocess all the CIFAR-10 data and save it to file. The code below also uses 10% of the training data for validation."
   ]
  },
  {
   "cell_type": "code",
   "execution_count": 6,
   "metadata": {
    "collapsed": true
   },
   "outputs": [],
   "source": [
    "\"\"\"\n",
    "DON'T MODIFY ANYTHING IN THIS CELL\n",
    "\"\"\"\n",
    "# Preprocess Training, Validation, and Testing Data\n",
    "helper.preprocess_and_save_data(cifar10_dataset_folder_path, normalize, one_hot_encode)"
   ]
  },
  {
   "cell_type": "markdown",
   "metadata": {},
   "source": [
    "# Check Point\n",
    "This is your first checkpoint.  If you ever decide to come back to this notebook or have to restart the notebook, you can start from here.  The preprocessed data has been saved to disk."
   ]
  },
  {
   "cell_type": "code",
   "execution_count": 4,
   "metadata": {
    "collapsed": true
   },
   "outputs": [],
   "source": [
    "\"\"\"\n",
    "DON'T MODIFY ANYTHING IN THIS CELL\n",
    "\"\"\"\n",
    "import pickle\n",
    "import problem_unittests as tests\n",
    "import helper\n",
    "import pandas as pd\n",
    "\n",
    "# Load the Preprocessed Validation data\n",
    "valid_features, valid_labels = pickle.load(open('preprocess_validation.p', mode='rb'))"
   ]
  },
  {
   "cell_type": "markdown",
   "metadata": {},
   "source": [
    "## Build the network\n",
    "For the neural network, you'll build each layer into a function.  Most of the code you've seen has been outside of functions. To test your code more thoroughly, we require that you put each layer in a function.  This allows us to give you better feedback and test for simple mistakes using our unittests before you submit your project.\n",
    "\n",
    ">**Note:** If you're finding it hard to dedicate enough time for this course each week, we've provided a small shortcut to this part of the project. In the next couple of problems, you'll have the option to use classes from the [TensorFlow Layers](https://www.tensorflow.org/api_docs/python/tf/layers) or [TensorFlow Layers (contrib)](https://www.tensorflow.org/api_guides/python/contrib.layers) packages to build each layer, except the layers you build in the \"Convolutional and Max Pooling Layer\" section.  TF Layers is similar to Keras's and TFLearn's abstraction to layers, so it's easy to pickup.\n",
    "\n",
    ">However, if you would like to get the most out of this course, try to solve all the problems _without_ using anything from the TF Layers packages. You **can** still use classes from other packages that happen to have the same name as ones you find in TF Layers! For example, instead of using the TF Layers version of the `conv2d` class, [tf.layers.conv2d](https://www.tensorflow.org/api_docs/python/tf/layers/conv2d), you would want to use the TF Neural Network version of `conv2d`, [tf.nn.conv2d](https://www.tensorflow.org/api_docs/python/tf/nn/conv2d). \n",
    "\n",
    "Let's begin!\n",
    "\n",
    "### Input\n",
    "The neural network needs to read the image data, one-hot encoded labels, and dropout keep probability. Implement the following functions\n",
    "* Implement `neural_net_image_input`\n",
    " * Return a [TF Placeholder](https://www.tensorflow.org/api_docs/python/tf/placeholder)\n",
    " * Set the shape using `image_shape` with batch size set to `None`.\n",
    " * Name the TensorFlow placeholder \"x\" using the TensorFlow `name` parameter in the [TF Placeholder](https://www.tensorflow.org/api_docs/python/tf/placeholder).\n",
    "* Implement `neural_net_label_input`\n",
    " * Return a [TF Placeholder](https://www.tensorflow.org/api_docs/python/tf/placeholder)\n",
    " * Set the shape using `n_classes` with batch size set to `None`.\n",
    " * Name the TensorFlow placeholder \"y\" using the TensorFlow `name` parameter in the [TF Placeholder](https://www.tensorflow.org/api_docs/python/tf/placeholder).\n",
    "* Implement `neural_net_keep_prob_input`\n",
    " * Return a [TF Placeholder](https://www.tensorflow.org/api_docs/python/tf/placeholder) for dropout keep probability.\n",
    " * Name the TensorFlow placeholder \"keep_prob\" using the TensorFlow `name` parameter in the [TF Placeholder](https://www.tensorflow.org/api_docs/python/tf/placeholder).\n",
    "\n",
    "These names will be used at the end of the project to load your saved model.\n",
    "\n",
    "Note: `None` for shapes in TensorFlow allow for a dynamic size."
   ]
  },
  {
   "cell_type": "code",
   "execution_count": 5,
   "metadata": {},
   "outputs": [
    {
     "name": "stdout",
     "output_type": "stream",
     "text": [
      "Image Input Tests Passed.\n",
      "Label Input Tests Passed.\n",
      "Keep Prob Tests Passed.\n"
     ]
    }
   ],
   "source": [
    "import tensorflow as tf\n",
    "\n",
    "def neural_net_image_input(image_shape):\n",
    "    \"\"\"\n",
    "    Return a Tensor for a batch of image input\n",
    "    : image_shape: Shape of the images\n",
    "    : return: Tensor for image input.\n",
    "    \"\"\"\n",
    "    x = tf.placeholder(tf.float32, \n",
    "                       shape = [None, image_shape[0],image_shape[1], image_shape[2]],\n",
    "                       name = 'x')\n",
    "                               \n",
    "    return x\n",
    "\n",
    "\n",
    "def neural_net_label_input(n_classes):\n",
    "    \"\"\"\n",
    "    Return a Tensor for a batch of label input\n",
    "    : n_classes: Number of classes\n",
    "    : return: Tensor for label input.\n",
    "    \"\"\"\n",
    "    \n",
    "                       \n",
    "    return tf.placeholder(tf.float32, shape = [None, n_classes],name = 'y')\n",
    "\n",
    "    \n",
    "\n",
    "\n",
    "def neural_net_keep_prob_input():\n",
    "    \"\"\"\n",
    "    Return a Tensor for keep probability\n",
    "    : return: Tensor for keep probability.\n",
    "    \"\"\"\n",
    "    \n",
    "    return tf.placeholder(tf.float32,name = 'keep_prob')\n",
    "\n",
    "\n",
    "def neural_net_keep_prob_conv():\n",
    "    \"\"\"\n",
    "    Return a Tensor for keep probability\n",
    "    : return: Tensor for keep probability.\n",
    "    \"\"\"\n",
    "    \n",
    "    return tf.placeholder(tf.float32,name = 'keep_prob_conv')\n",
    "\n",
    "\n",
    "\"\"\"\n",
    "DON'T MODIFY ANYTHING IN THIS CELL THAT IS BELOW THIS LINE\n",
    "\"\"\"\n",
    "tf.reset_default_graph()\n",
    "tests.test_nn_image_inputs(neural_net_image_input)\n",
    "tests.test_nn_label_inputs(neural_net_label_input)\n",
    "tests.test_nn_keep_prob_inputs(neural_net_keep_prob_input)"
   ]
  },
  {
   "cell_type": "markdown",
   "metadata": {},
   "source": [
    "### Convolution and Max Pooling Layer\n",
    "Convolution layers have a lot of success with images. For this code cell, you should implement the function `conv2d_maxpool` to apply convolution then max pooling:\n",
    "* Create the weight and bias using `conv_ksize`, `conv_num_outputs` and the shape of `x_tensor`.\n",
    "* Apply a convolution to `x_tensor` using weight and `conv_strides`.\n",
    " * We recommend you use same padding, but you're welcome to use any padding.\n",
    "* Add bias\n",
    "* Add a nonlinear activation to the convolution.\n",
    "* Apply Max Pooling using `pool_ksize` and `pool_strides`.\n",
    " * We recommend you use same padding, but you're welcome to use any padding.\n",
    "\n",
    "**Note:** You **can't** use [TensorFlow Layers](https://www.tensorflow.org/api_docs/python/tf/layers) or [TensorFlow Layers (contrib)](https://www.tensorflow.org/api_guides/python/contrib.layers) for **this** layer, but you can still use TensorFlow's [Neural Network](https://www.tensorflow.org/api_docs/python/tf/nn) package. You may still use the shortcut option for all the **other** layers."
   ]
  },
  {
   "cell_type": "code",
   "execution_count": 6,
   "metadata": {},
   "outputs": [
    {
     "name": "stdout",
     "output_type": "stream",
     "text": [
      "Tests Passed\n"
     ]
    }
   ],
   "source": [
    "def conv2d_maxpool(x_tensor, conv_num_outputs, conv_ksize, conv_strides, pool_ksize, pool_strides):\n",
    "    \"\"\"\n",
    "    Apply convolution then max pooling to x_tensor\n",
    "    :param x_tensor: TensorFlow Tensor\n",
    "    :param conv_num_outputs: Number of outputs for the convolutional layer\n",
    "    :param conv_ksize: kernal size 2-D Tuple for the convolutional layer\n",
    "    :param conv_strides: Stride 2-D Tuple for convolution\n",
    "    :param pool_ksize: kernal size 2-D Tuple for pool\n",
    "    :param pool_strides: Stride 2-D Tuple for pool\n",
    "    : return: A tensor that represents convolution and max pooling of x_tensor\n",
    "    \"\"\"\n",
    "    depth = x_tensor.get_shape().as_list()[3]\n",
    "\n",
    "    W = tf.Variable(tf.truncated_normal([conv_ksize[0],conv_ksize[1],depth,conv_num_outputs],0,stddev = 0.05))\n",
    "    b = tf.Variable(tf.zeros(conv_num_outputs))\n",
    "    \n",
    "    x = tf.nn.conv2d(x_tensor,W, strides=[1, conv_strides[0], conv_strides[1], 1], padding='SAME')\n",
    "    x = tf.nn.bias_add(x, b)\n",
    "    x = tf.nn.relu(x)\n",
    "  \n",
    "    \n",
    "    x = tf.nn.max_pool(x, [1, pool_ksize[0],  pool_ksize[1], 1], [1, pool_strides[0], pool_strides[1], 1],padding='SAME')\n",
    "    \n",
    "    \n",
    "    return x\n",
    "\n",
    "\n",
    "\"\"\"\n",
    "DON'T MODIFY ANYTHING IN THIS CELL THAT IS BELOW THIS LINE\n",
    "\"\"\"\n",
    "tests.test_con_pool(conv2d_maxpool)"
   ]
  },
  {
   "cell_type": "markdown",
   "metadata": {},
   "source": [
    "### Flatten Layer\n",
    "Implement the `flatten` function to change the dimension of `x_tensor` from a 4-D tensor to a 2-D tensor.  The output should be the shape (*Batch Size*, *Flattened Image Size*). Shortcut option: you can use classes from the [TensorFlow Layers](https://www.tensorflow.org/api_docs/python/tf/layers) or [TensorFlow Layers (contrib)](https://www.tensorflow.org/api_guides/python/contrib.layers) packages for this layer. For more of a challenge, only use other TensorFlow packages."
   ]
  },
  {
   "cell_type": "code",
   "execution_count": 7,
   "metadata": {},
   "outputs": [
    {
     "name": "stdout",
     "output_type": "stream",
     "text": [
      "Tests Passed\n"
     ]
    }
   ],
   "source": [
    "def flatten(x_tensor):\n",
    "    \"\"\"\n",
    "    Flatten x_tensor to (Batch Size, Flattened Image Size)\n",
    "    : x_tensor: A tensor of size (Batch Size, ...), where ... are the image dimensions.\n",
    "    : return: A tensor of size (Batch Size, Flattened Image Size).\n",
    "    \"\"\"\n",
    "    #CODE 1 doesn't work!\n",
    "\n",
    "    #batch = x_tensor.get_shape().as_list()[0]\n",
    "    #x = tf.reshape(x_tensor,[batch,-1])\n",
    "    \n",
    "    #CODE 2 work!\n",
    "    \n",
    "    batch = x_tensor.get_shape().as_list()\n",
    "    x = tf.reshape(x_tensor,[-1,batch[1]*batch[2]*batch[3]])\n",
    "    \n",
    "    return x\n",
    "\n",
    "\"\"\"\n",
    "DON'T MODIFY ANYTHING IN THIS CELL THAT IS BELOW THIS LINE\n",
    "\"\"\"\n",
    "tests.test_flatten(flatten)"
   ]
  },
  {
   "cell_type": "markdown",
   "metadata": {},
   "source": [
    "### Fully-Connected Layer\n",
    "Implement the `fully_conn` function to apply a fully connected layer to `x_tensor` with the shape (*Batch Size*, *num_outputs*). Shortcut option: you can use classes from the [TensorFlow Layers](https://www.tensorflow.org/api_docs/python/tf/layers) or [TensorFlow Layers (contrib)](https://www.tensorflow.org/api_guides/python/contrib.layers) packages for this layer. For more of a challenge, only use other TensorFlow packages."
   ]
  },
  {
   "cell_type": "code",
   "execution_count": 8,
   "metadata": {},
   "outputs": [
    {
     "name": "stdout",
     "output_type": "stream",
     "text": [
      "Tests Passed\n"
     ]
    }
   ],
   "source": [
    "def fully_conn(x_tensor, num_outputs):\n",
    "    \"\"\"\n",
    "    Apply a fully connected layer to x_tensor using weight and bias\n",
    "    : x_tensor: A 2-D tensor where the first dimension is batch size.\n",
    "    : num_outputs: The number of output that the new tensor should be.\n",
    "    : return: A 2-D tensor where the second dimension is num_outputs.\n",
    "    \"\"\"\n",
    "    \n",
    "    dim = x_tensor.get_shape().as_list()\n",
    "    \n",
    "    fc_w = tf.Variable(tf.truncated_normal((dim[1], num_outputs),0,stddev = 0.05))\n",
    "    fc_b = tf.Variable(tf.zeros(num_outputs))\n",
    "    \n",
    "    x = tf.add(tf.matmul(x_tensor,fc_w),fc_b)\n",
    "    x = tf.nn.relu(x)\n",
    "    \n",
    "    \n",
    "    return x\n",
    "\n",
    "\n",
    "\"\"\"\n",
    "DON'T MODIFY ANYTHING IN THIS CELL THAT IS BELOW THIS LINE\n",
    "\"\"\"\n",
    "tests.test_fully_conn(fully_conn)"
   ]
  },
  {
   "cell_type": "markdown",
   "metadata": {},
   "source": [
    "### Output Layer\n",
    "Implement the `output` function to apply a fully connected layer to `x_tensor` with the shape (*Batch Size*, *num_outputs*). Shortcut option: you can use classes from the [TensorFlow Layers](https://www.tensorflow.org/api_docs/python/tf/layers) or [TensorFlow Layers (contrib)](https://www.tensorflow.org/api_guides/python/contrib.layers) packages for this layer. For more of a challenge, only use other TensorFlow packages.\n",
    "\n",
    "**Note:** Activation, softmax, or cross entropy should **not** be applied to this."
   ]
  },
  {
   "cell_type": "code",
   "execution_count": 9,
   "metadata": {},
   "outputs": [
    {
     "name": "stdout",
     "output_type": "stream",
     "text": [
      "Tests Passed\n"
     ]
    }
   ],
   "source": [
    "def output(x_tensor, num_outputs):\n",
    "    \"\"\"\n",
    "    Apply a output layer to x_tensor using weight and bias\n",
    "    : x_tensor: A 2-D tensor where the first dimension is batch size.\n",
    "    : num_outputs: The number of output that the new tensor should be.\n",
    "    : return: A 2-D tensor where the second dimension is num_outputs.\n",
    "    \"\"\"\n",
    "    dim = x_tensor.get_shape().as_list()\n",
    "    \n",
    "    o_w = tf.Variable(tf.truncated_normal((dim[1], num_outputs),0,stddev = 0.05))\n",
    "    o_b = tf.Variable(tf.zeros(num_outputs))\n",
    "    \n",
    "    x = tf.add(tf.matmul(x_tensor,o_w),o_b)\n",
    "    \n",
    "    \n",
    "    return x\n",
    "\n",
    "\n",
    "\n",
    "\"\"\"\n",
    "DON'T MODIFY ANYTHING IN THIS CELL THAT IS BELOW THIS LINE\n",
    "\"\"\"\n",
    "tests.test_output(output)"
   ]
  },
  {
   "cell_type": "markdown",
   "metadata": {},
   "source": [
    "### Create Convolutional Model\n",
    "Implement the function `conv_net` to create a convolutional neural network model. The function takes in a batch of images, `x`, and outputs logits.  Use the layers you created above to create this model:\n",
    "\n",
    "* Apply 1, 2, or 3 Convolution and Max Pool layers\n",
    "* Apply a Flatten Layer\n",
    "* Apply 1, 2, or 3 Fully Connected Layers\n",
    "* Apply an Output Layer\n",
    "* Return the output\n",
    "* Apply [TensorFlow's Dropout](https://www.tensorflow.org/api_docs/python/tf/nn/dropout) to one or more layers in the model using `keep_prob`. "
   ]
  },
  {
   "cell_type": "code",
   "execution_count": 10,
   "metadata": {},
   "outputs": [
    {
     "name": "stdout",
     "output_type": "stream",
     "text": [
      "Neural Network Built!\n"
     ]
    }
   ],
   "source": [
    "\n",
    "\n",
    "def conv_net(x, keep_prob):\n",
    "    \"\"\"\n",
    "    Create a convolutional neural network model\n",
    "    : x: Placeholder tensor that holds image data.\n",
    "    : keep_prob: Placeholder tensor that hold dropout keep probability.\n",
    "    : return: Tensor that represents logits\n",
    "    \"\"\"\n",
    "    # TODO: Apply 1, 2, or 3 Convolution and Max Pool layers\n",
    "    #    Play around with different number of outputs, kernel size and stride\n",
    "    # Function Definition from Above:\n",
    "    #    conv2d_maxpool(x_tensor, conv_num_outputs, conv_ksize, conv_strides, pool_ksize, pool_strides)\n",
    "    \n",
    "    x_tensor = x\n",
    "    conv_ksize = (4,4) \n",
    "    conv_num_outputs = [96,96,96]\n",
    "    conv_strides = (1,1)\n",
    "    pool_ksize = (2,2)\n",
    "    pool_strides = (1,1)\n",
    "    num_outputs = 10\n",
    "\n",
    "\n",
    "    conv =  conv2d_maxpool(x_tensor, conv_num_outputs[0], conv_ksize, conv_strides, pool_ksize, pool_strides)\n",
    "\n",
    "    \n",
    "    conv2 = conv2d_maxpool(conv, conv_num_outputs[1], conv_ksize, conv_strides, pool_ksize, pool_strides)\n",
    "    \n",
    "    \n",
    "    conv3 = conv2d_maxpool(conv2, conv_num_outputs[2], conv_ksize, conv_strides, pool_ksize, pool_strides)\n",
    "    \n",
    "    #conv4 = conv2d_maxpool(conv3, conv_num_outputs[3], conv_ksize, conv_strides, pool_ksize, pool_strides)\n",
    "\n",
    "\n",
    "    # TODO: Apply a Flatten Layer\n",
    "    # Function Definition from Above:\n",
    "    #   flatten(x_tensor)\n",
    "    \n",
    "    flat = flatten(conv3)\n",
    "\n",
    "    # TODO: Apply 1, 2, or 3 Fully Connected Layers\n",
    "    #    Play around with different number of outputs\n",
    "    # Function Definition from Above:\n",
    "    #   fully_conn(x_tensor, num_outputs)\n",
    "    \n",
    "    \n",
    "    \n",
    "    fc1 = fully_conn(flat,128)\n",
    "    fc1 = tf.nn.relu(fc1)\n",
    "    \n",
    "    fc2 = fully_conn(fc1,128)\n",
    "    fc2= tf.nn.relu(fc2)\n",
    "    \n",
    "    \n",
    "    fc2 = tf.nn.dropout(fc2, keep_prob)\n",
    "   \n",
    "    \n",
    "    \n",
    "    \n",
    "    # TODO: Apply an Output Layer\n",
    "    #    Set this to the number of classes\n",
    "    # Function Definition from Above:\n",
    "    #   output(x_tensor, num_outputs)\n",
    "    \n",
    "    output_data = output(fc2, num_outputs)\n",
    "    \n",
    "    # TODO: return output\n",
    "    return output_data\n",
    "\n",
    "\"\"\"\n",
    "DON'T MODIFY ANYTHING IN THIS CELL THAT IS BELOW THIS LINE\n",
    "\"\"\"\n",
    "\n",
    "##############################\n",
    "## Build the Neural Network ##\n",
    "##############################\n",
    "\n",
    "# Remove previous weights, bias, inputs, etc..\n",
    "tf.reset_default_graph()\n",
    "\n",
    "# Inputs\n",
    "x = neural_net_image_input((32, 32, 3))\n",
    "y = neural_net_label_input(10)\n",
    "keep_prob = neural_net_keep_prob_input()\n",
    "\n",
    "# Model\n",
    "logits = conv_net(x, keep_prob)\n",
    "\n",
    "# Name logits Tensor, so that is can be loaded from disk after training\n",
    "logits = tf.identity(logits, name='logits')\n",
    "\n",
    "# Loss and Optimizer\n",
    "cost = tf.reduce_mean(tf.nn.softmax_cross_entropy_with_logits(logits=logits, labels=y))\n",
    "optimizer = tf.train.AdamOptimizer().minimize(cost)\n",
    "\n",
    "# Accuracy\n",
    "correct_pred = tf.equal(tf.argmax(logits, 1), tf.argmax(y, 1))\n",
    "accuracy = tf.reduce_mean(tf.cast(correct_pred, tf.float32), name='accuracy')\n",
    "\n",
    "tests.test_conv_net(conv_net)"
   ]
  },
  {
   "cell_type": "markdown",
   "metadata": {},
   "source": [
    "## Train the Neural Network\n",
    "### Single Optimization\n",
    "Implement the function `train_neural_network` to do a single optimization.  The optimization should use `optimizer` to optimize in `session` with a `feed_dict` of the following:\n",
    "* `x` for image input\n",
    "* `y` for labels\n",
    "* `keep_prob` for keep probability for dropout\n",
    "\n",
    "This function will be called for each batch, so `tf.global_variables_initializer()` has already been called.\n",
    "\n",
    "Note: Nothing needs to be returned. This function is only optimizing the neural network."
   ]
  },
  {
   "cell_type": "code",
   "execution_count": 11,
   "metadata": {},
   "outputs": [
    {
     "name": "stdout",
     "output_type": "stream",
     "text": [
      "Tests Passed\n"
     ]
    }
   ],
   "source": [
    "def train_neural_network(session, optimizer, keep_probability, feature_batch, label_batch):\n",
    "    \"\"\"\n",
    "    Optimize the session on a batch of images and labels\n",
    "    : session: Current TensorFlow session\n",
    "    : optimizer: TensorFlow optimizer function\n",
    "    : keep_probability: keep probability\n",
    "    : feature_batch: Batch of Numpy image data\n",
    "    : label_batch: Batch of Numpy label data\n",
    "    \"\"\"\n",
    "    \n",
    "    session.run(optimizer, feed_dict={\n",
    "                            x: feature_batch, \n",
    "                            y: label_batch, \n",
    "                            keep_prob: keep_probability})\n",
    "    \n",
    "        \n",
    "    \n",
    "\n",
    "\n",
    "\"\"\"\n",
    "DON'T MODIFY ANYTHING IN THIS CELL THAT IS BELOW THIS LINE\n",
    "\"\"\"\n",
    "tests.test_train_nn(train_neural_network)"
   ]
  },
  {
   "cell_type": "markdown",
   "metadata": {},
   "source": [
    "### Show Stats\n",
    "Implement the function `print_stats` to print loss and validation accuracy.  Use the global variables `valid_features` and `valid_labels` to calculate validation accuracy.  Use a keep probability of `1.0` to calculate the loss and validation accuracy."
   ]
  },
  {
   "cell_type": "code",
   "execution_count": 12,
   "metadata": {
    "collapsed": true
   },
   "outputs": [],
   "source": [
    "\n",
    "def print_stats(session, feature_batch, label_batch, cost, accuracy):\n",
    "    \"\"\"\n",
    "    Print information about loss and validation accuracy\n",
    "    : session: Current TensorFlow session\n",
    "    : feature_batch: Batch of Numpy image data\n",
    "    : label_batch: Batch of Numpy label data\n",
    "    : cost: TensorFlow cost function\n",
    "    : accuracy: TensorFlow accuracy function\n",
    "    \"\"\"\n",
    "    cost_value = session.run(cost, feed_dict={x: feature_batch, y: label_batch, keep_prob: 1.0})\n",
    "    accuracy_value = session.run(accuracy, feed_dict={x: valid_features, y: valid_labels, keep_prob: 1.0})\n",
    "    \n",
    "    \n",
    "    print(\"\\tCost: {:.4f} \\tValidation Accuracy: {:.6f}\".format(cost_value, accuracy_value))\n",
    "    pass"
   ]
  },
  {
   "cell_type": "markdown",
   "metadata": {},
   "source": [
    "### Hyperparameters\n",
    "Tune the following parameters:\n",
    "* Set `epochs` to the number of iterations until the network stops learning or start overfitting\n",
    "* Set `batch_size` to the highest number that your machine has memory for.  Most people set them to common sizes of memory:\n",
    " * 64\n",
    " * 128\n",
    " * 256\n",
    " * ...\n",
    "* Set `keep_probability` to the probability of keeping a node using dropout"
   ]
  },
  {
   "cell_type": "code",
   "execution_count": 16,
   "metadata": {
    "collapsed": true
   },
   "outputs": [],
   "source": [
    "# TODO: Tune Parameters\n",
    "epochs = 1\n",
    "batch_size = 64\n",
    "keep_probability = 0.5\n"
   ]
  },
  {
   "cell_type": "markdown",
   "metadata": {},
   "source": [
    "### Train on a Single CIFAR-10 Batch\n",
    "Instead of training the neural network on all the CIFAR-10 batches of data, let's use a single batch. This should save time while you iterate on the model to get a better accuracy.  Once the final validation accuracy is 50% or greater, run the model on all the data in the next section."
   ]
  },
  {
   "cell_type": "code",
   "execution_count": 18,
   "metadata": {},
   "outputs": [
    {
     "name": "stdout",
     "output_type": "stream",
     "text": [
      "Checking the Training on a Single Batch...\n"
     ]
    },
    {
     "ename": "KeyboardInterrupt",
     "evalue": "",
     "output_type": "error",
     "traceback": [
      "\u001b[0;31m---------------------------------------------------------------------------\u001b[0m",
      "\u001b[0;31mKeyboardInterrupt\u001b[0m                         Traceback (most recent call last)",
      "\u001b[0;32m<ipython-input-18-af9d5ffa77aa>\u001b[0m in \u001b[0;36m<module>\u001b[0;34m()\u001b[0m\n\u001b[1;32m     12\u001b[0m         \u001b[0mbatch_i\u001b[0m \u001b[0;34m=\u001b[0m \u001b[0;36m1\u001b[0m\u001b[0;34m\u001b[0m\u001b[0m\n\u001b[1;32m     13\u001b[0m         \u001b[0;32mfor\u001b[0m \u001b[0mbatch_features\u001b[0m\u001b[0;34m,\u001b[0m \u001b[0mbatch_labels\u001b[0m \u001b[0;32min\u001b[0m \u001b[0mhelper\u001b[0m\u001b[0;34m.\u001b[0m\u001b[0mload_preprocess_training_batch\u001b[0m\u001b[0;34m(\u001b[0m\u001b[0mbatch_i\u001b[0m\u001b[0;34m,\u001b[0m \u001b[0mbatch_size\u001b[0m\u001b[0;34m)\u001b[0m\u001b[0;34m:\u001b[0m\u001b[0;34m\u001b[0m\u001b[0m\n\u001b[0;32m---> 14\u001b[0;31m             \u001b[0mtrain_neural_network\u001b[0m\u001b[0;34m(\u001b[0m\u001b[0msess\u001b[0m\u001b[0;34m,\u001b[0m \u001b[0moptimizer\u001b[0m\u001b[0;34m,\u001b[0m \u001b[0mkeep_probability\u001b[0m\u001b[0;34m,\u001b[0m \u001b[0mbatch_features\u001b[0m\u001b[0;34m,\u001b[0m \u001b[0mbatch_labels\u001b[0m\u001b[0;34m)\u001b[0m\u001b[0;34m\u001b[0m\u001b[0m\n\u001b[0m\u001b[1;32m     15\u001b[0m         \u001b[0mprint\u001b[0m\u001b[0;34m(\u001b[0m\u001b[0;34m'Epoch {:>2}, CIFAR-10 Batch {}:  '\u001b[0m\u001b[0;34m.\u001b[0m\u001b[0mformat\u001b[0m\u001b[0;34m(\u001b[0m\u001b[0mepoch\u001b[0m \u001b[0;34m+\u001b[0m \u001b[0;36m1\u001b[0m\u001b[0;34m,\u001b[0m \u001b[0mbatch_i\u001b[0m\u001b[0;34m)\u001b[0m\u001b[0;34m,\u001b[0m \u001b[0mend\u001b[0m\u001b[0;34m=\u001b[0m\u001b[0;34m''\u001b[0m\u001b[0;34m)\u001b[0m\u001b[0;34m\u001b[0m\u001b[0m\n\u001b[1;32m     16\u001b[0m         \u001b[0mprint_stats\u001b[0m\u001b[0;34m(\u001b[0m\u001b[0msess\u001b[0m\u001b[0;34m,\u001b[0m \u001b[0mbatch_features\u001b[0m\u001b[0;34m,\u001b[0m \u001b[0mbatch_labels\u001b[0m\u001b[0;34m,\u001b[0m \u001b[0mcost\u001b[0m\u001b[0;34m,\u001b[0m \u001b[0maccuracy\u001b[0m\u001b[0;34m)\u001b[0m\u001b[0;34m\u001b[0m\u001b[0m\n",
      "\u001b[0;32m<ipython-input-11-ec3914447cce>\u001b[0m in \u001b[0;36mtrain_neural_network\u001b[0;34m(session, optimizer, keep_probability, feature_batch, label_batch)\u001b[0m\n\u001b[1;32m     12\u001b[0m                             \u001b[0mx\u001b[0m\u001b[0;34m:\u001b[0m \u001b[0mfeature_batch\u001b[0m\u001b[0;34m,\u001b[0m\u001b[0;34m\u001b[0m\u001b[0m\n\u001b[1;32m     13\u001b[0m                             \u001b[0my\u001b[0m\u001b[0;34m:\u001b[0m \u001b[0mlabel_batch\u001b[0m\u001b[0;34m,\u001b[0m\u001b[0;34m\u001b[0m\u001b[0m\n\u001b[0;32m---> 14\u001b[0;31m                             keep_prob: keep_probability})\n\u001b[0m\u001b[1;32m     15\u001b[0m \u001b[0;34m\u001b[0m\u001b[0m\n\u001b[1;32m     16\u001b[0m \u001b[0;34m\u001b[0m\u001b[0m\n",
      "\u001b[0;32m/home/lucas/anaconda3/envs/tensorflow-gpu/lib/python3.6/site-packages/tensorflow/python/client/session.py\u001b[0m in \u001b[0;36mrun\u001b[0;34m(self, fetches, feed_dict, options, run_metadata)\u001b[0m\n\u001b[1;32m    765\u001b[0m     \u001b[0;32mtry\u001b[0m\u001b[0;34m:\u001b[0m\u001b[0;34m\u001b[0m\u001b[0m\n\u001b[1;32m    766\u001b[0m       result = self._run(None, fetches, feed_dict, options_ptr,\n\u001b[0;32m--> 767\u001b[0;31m                          run_metadata_ptr)\n\u001b[0m\u001b[1;32m    768\u001b[0m       \u001b[0;32mif\u001b[0m \u001b[0mrun_metadata\u001b[0m\u001b[0;34m:\u001b[0m\u001b[0;34m\u001b[0m\u001b[0m\n\u001b[1;32m    769\u001b[0m         \u001b[0mproto_data\u001b[0m \u001b[0;34m=\u001b[0m \u001b[0mtf_session\u001b[0m\u001b[0;34m.\u001b[0m\u001b[0mTF_GetBuffer\u001b[0m\u001b[0;34m(\u001b[0m\u001b[0mrun_metadata_ptr\u001b[0m\u001b[0;34m)\u001b[0m\u001b[0;34m\u001b[0m\u001b[0m\n",
      "\u001b[0;32m/home/lucas/anaconda3/envs/tensorflow-gpu/lib/python3.6/site-packages/tensorflow/python/client/session.py\u001b[0m in \u001b[0;36m_run\u001b[0;34m(self, handle, fetches, feed_dict, options, run_metadata)\u001b[0m\n\u001b[1;32m    963\u001b[0m     \u001b[0;32mif\u001b[0m \u001b[0mfinal_fetches\u001b[0m \u001b[0;32mor\u001b[0m \u001b[0mfinal_targets\u001b[0m\u001b[0;34m:\u001b[0m\u001b[0;34m\u001b[0m\u001b[0m\n\u001b[1;32m    964\u001b[0m       results = self._do_run(handle, final_targets, final_fetches,\n\u001b[0;32m--> 965\u001b[0;31m                              feed_dict_string, options, run_metadata)\n\u001b[0m\u001b[1;32m    966\u001b[0m     \u001b[0;32melse\u001b[0m\u001b[0;34m:\u001b[0m\u001b[0;34m\u001b[0m\u001b[0m\n\u001b[1;32m    967\u001b[0m       \u001b[0mresults\u001b[0m \u001b[0;34m=\u001b[0m \u001b[0;34m[\u001b[0m\u001b[0;34m]\u001b[0m\u001b[0;34m\u001b[0m\u001b[0m\n",
      "\u001b[0;32m/home/lucas/anaconda3/envs/tensorflow-gpu/lib/python3.6/site-packages/tensorflow/python/client/session.py\u001b[0m in \u001b[0;36m_do_run\u001b[0;34m(self, handle, target_list, fetch_list, feed_dict, options, run_metadata)\u001b[0m\n\u001b[1;32m   1013\u001b[0m     \u001b[0;32mif\u001b[0m \u001b[0mhandle\u001b[0m \u001b[0;32mis\u001b[0m \u001b[0;32mNone\u001b[0m\u001b[0;34m:\u001b[0m\u001b[0;34m\u001b[0m\u001b[0m\n\u001b[1;32m   1014\u001b[0m       return self._do_call(_run_fn, self._session, feed_dict, fetch_list,\n\u001b[0;32m-> 1015\u001b[0;31m                            target_list, options, run_metadata)\n\u001b[0m\u001b[1;32m   1016\u001b[0m     \u001b[0;32melse\u001b[0m\u001b[0;34m:\u001b[0m\u001b[0;34m\u001b[0m\u001b[0m\n\u001b[1;32m   1017\u001b[0m       return self._do_call(_prun_fn, self._session, handle, feed_dict,\n",
      "\u001b[0;32m/home/lucas/anaconda3/envs/tensorflow-gpu/lib/python3.6/site-packages/tensorflow/python/client/session.py\u001b[0m in \u001b[0;36m_do_call\u001b[0;34m(self, fn, *args)\u001b[0m\n\u001b[1;32m   1020\u001b[0m   \u001b[0;32mdef\u001b[0m \u001b[0m_do_call\u001b[0m\u001b[0;34m(\u001b[0m\u001b[0mself\u001b[0m\u001b[0;34m,\u001b[0m \u001b[0mfn\u001b[0m\u001b[0;34m,\u001b[0m \u001b[0;34m*\u001b[0m\u001b[0margs\u001b[0m\u001b[0;34m)\u001b[0m\u001b[0;34m:\u001b[0m\u001b[0;34m\u001b[0m\u001b[0m\n\u001b[1;32m   1021\u001b[0m     \u001b[0;32mtry\u001b[0m\u001b[0;34m:\u001b[0m\u001b[0;34m\u001b[0m\u001b[0m\n\u001b[0;32m-> 1022\u001b[0;31m       \u001b[0;32mreturn\u001b[0m \u001b[0mfn\u001b[0m\u001b[0;34m(\u001b[0m\u001b[0;34m*\u001b[0m\u001b[0margs\u001b[0m\u001b[0;34m)\u001b[0m\u001b[0;34m\u001b[0m\u001b[0m\n\u001b[0m\u001b[1;32m   1023\u001b[0m     \u001b[0;32mexcept\u001b[0m \u001b[0merrors\u001b[0m\u001b[0;34m.\u001b[0m\u001b[0mOpError\u001b[0m \u001b[0;32mas\u001b[0m \u001b[0me\u001b[0m\u001b[0;34m:\u001b[0m\u001b[0;34m\u001b[0m\u001b[0m\n\u001b[1;32m   1024\u001b[0m       \u001b[0mmessage\u001b[0m \u001b[0;34m=\u001b[0m \u001b[0mcompat\u001b[0m\u001b[0;34m.\u001b[0m\u001b[0mas_text\u001b[0m\u001b[0;34m(\u001b[0m\u001b[0me\u001b[0m\u001b[0;34m.\u001b[0m\u001b[0mmessage\u001b[0m\u001b[0;34m)\u001b[0m\u001b[0;34m\u001b[0m\u001b[0m\n",
      "\u001b[0;32m/home/lucas/anaconda3/envs/tensorflow-gpu/lib/python3.6/site-packages/tensorflow/python/client/session.py\u001b[0m in \u001b[0;36m_run_fn\u001b[0;34m(session, feed_dict, fetch_list, target_list, options, run_metadata)\u001b[0m\n\u001b[1;32m   1002\u001b[0m         return tf_session.TF_Run(session, options,\n\u001b[1;32m   1003\u001b[0m                                  \u001b[0mfeed_dict\u001b[0m\u001b[0;34m,\u001b[0m \u001b[0mfetch_list\u001b[0m\u001b[0;34m,\u001b[0m \u001b[0mtarget_list\u001b[0m\u001b[0;34m,\u001b[0m\u001b[0;34m\u001b[0m\u001b[0m\n\u001b[0;32m-> 1004\u001b[0;31m                                  status, run_metadata)\n\u001b[0m\u001b[1;32m   1005\u001b[0m \u001b[0;34m\u001b[0m\u001b[0m\n\u001b[1;32m   1006\u001b[0m     \u001b[0;32mdef\u001b[0m \u001b[0m_prun_fn\u001b[0m\u001b[0;34m(\u001b[0m\u001b[0msession\u001b[0m\u001b[0;34m,\u001b[0m \u001b[0mhandle\u001b[0m\u001b[0;34m,\u001b[0m \u001b[0mfeed_dict\u001b[0m\u001b[0;34m,\u001b[0m \u001b[0mfetch_list\u001b[0m\u001b[0;34m)\u001b[0m\u001b[0;34m:\u001b[0m\u001b[0;34m\u001b[0m\u001b[0m\n",
      "\u001b[0;31mKeyboardInterrupt\u001b[0m: "
     ]
    }
   ],
   "source": [
    "\"\"\"\n",
    "DON'T MODIFY ANYTHING IN THIS CELL\n",
    "\"\"\"\n",
    "print('Checking the Training on a Single Batch...')\n",
    "\n",
    "with tf.Session(config=tf.ConfigProto(log_device_placement=True)) as sess:\n",
    "    # Initializing the variables\n",
    "    sess.run(tf.global_variables_initializer())\n",
    "    \n",
    "    # Training cycle\n",
    "    for epoch in range(epochs):\n",
    "        batch_i = 1\n",
    "        for batch_features, batch_labels in helper.load_preprocess_training_batch(batch_i, batch_size):\n",
    "            train_neural_network(sess, optimizer, keep_probability, batch_features, batch_labels)\n",
    "        print('Epoch {:>2}, CIFAR-10 Batch {}:  '.format(epoch + 1, batch_i), end='')\n",
    "        print_stats(sess, batch_features, batch_labels, cost, accuracy)"
   ]
  },
  {
   "cell_type": "markdown",
   "metadata": {},
   "source": [
    "### Fully Train the Model\n",
    "Now that you got a good accuracy with a single CIFAR-10 batch, try it with all five batches."
   ]
  },
  {
   "cell_type": "code",
   "execution_count": 19,
   "metadata": {},
   "outputs": [
    {
     "name": "stdout",
     "output_type": "stream",
     "text": [
      "Training...\n",
      "Epoch  1, CIFAR-10 Batch 1:  \tCost: 2.1470 \tValidation Accuracy: 0.302400\n",
      "Epoch  1, CIFAR-10 Batch 2:  \tCost: 1.7763 \tValidation Accuracy: 0.353400\n",
      "Epoch  1, CIFAR-10 Batch 3:  \tCost: 1.4550 \tValidation Accuracy: 0.383800\n",
      "Epoch  1, CIFAR-10 Batch 4:  \tCost: 1.5659 \tValidation Accuracy: 0.402600\n",
      "Epoch  1, CIFAR-10 Batch 5:  \tCost: 1.5642 \tValidation Accuracy: 0.434400\n",
      "Epoch  2, CIFAR-10 Batch 1:  \tCost: 1.8019 \tValidation Accuracy: 0.451800\n",
      "Epoch  2, CIFAR-10 Batch 2:  \tCost: 1.5299 \tValidation Accuracy: 0.465400\n",
      "Epoch  2, CIFAR-10 Batch 3:  \tCost: 1.1022 \tValidation Accuracy: 0.491600\n",
      "Epoch  2, CIFAR-10 Batch 4:  \tCost: 1.4082 \tValidation Accuracy: 0.503800\n",
      "Epoch  2, CIFAR-10 Batch 5:  \tCost: 1.3105 \tValidation Accuracy: 0.520000\n",
      "Epoch  3, CIFAR-10 Batch 1:  \tCost: 1.4550 \tValidation Accuracy: 0.538000\n",
      "Epoch  3, CIFAR-10 Batch 2:  \tCost: 1.3507 \tValidation Accuracy: 0.526400\n",
      "Epoch  3, CIFAR-10 Batch 3:  \tCost: 1.0498 \tValidation Accuracy: 0.534400\n",
      "Epoch  3, CIFAR-10 Batch 4:  \tCost: 1.3655 \tValidation Accuracy: 0.552200\n",
      "Epoch  3, CIFAR-10 Batch 5:  \tCost: 1.1824 \tValidation Accuracy: 0.559400\n",
      "Epoch  4, CIFAR-10 Batch 1:  \tCost: 1.3026 \tValidation Accuracy: 0.568800\n",
      "Epoch  4, CIFAR-10 Batch 2:  \tCost: 1.2429 \tValidation Accuracy: 0.554000\n",
      "Epoch  4, CIFAR-10 Batch 3:  \tCost: 0.9113 \tValidation Accuracy: 0.556200\n",
      "Epoch  4, CIFAR-10 Batch 4:  \tCost: 1.1922 \tValidation Accuracy: 0.580200\n",
      "Epoch  4, CIFAR-10 Batch 5:  \tCost: 0.9577 \tValidation Accuracy: 0.587400\n",
      "Epoch  5, CIFAR-10 Batch 1:  \tCost: 1.1720 \tValidation Accuracy: 0.588400\n",
      "Epoch  5, CIFAR-10 Batch 2:  \tCost: 0.9801 \tValidation Accuracy: 0.575800\n",
      "Epoch  5, CIFAR-10 Batch 3:  \tCost: 0.9070 \tValidation Accuracy: 0.578000\n",
      "Epoch  5, CIFAR-10 Batch 4:  \tCost: 1.0858 \tValidation Accuracy: 0.611200\n",
      "Epoch  5, CIFAR-10 Batch 5:  \tCost: 0.8511 \tValidation Accuracy: 0.609800\n",
      "Epoch  6, CIFAR-10 Batch 1:  \tCost: 0.9813 \tValidation Accuracy: 0.609000\n",
      "Epoch  6, CIFAR-10 Batch 2:  \tCost: 0.8910 \tValidation Accuracy: 0.585400\n",
      "Epoch  6, CIFAR-10 Batch 3:  \tCost: 0.7920 \tValidation Accuracy: 0.599000\n",
      "Epoch  6, CIFAR-10 Batch 4:  \tCost: 0.9169 \tValidation Accuracy: 0.623800\n",
      "Epoch  6, CIFAR-10 Batch 5:  \tCost: 0.7347 \tValidation Accuracy: 0.620400\n",
      "Epoch  7, CIFAR-10 Batch 1:  \tCost: 0.7892 \tValidation Accuracy: 0.616000\n",
      "Epoch  7, CIFAR-10 Batch 2:  \tCost: 0.7400 \tValidation Accuracy: 0.636400\n",
      "Epoch  7, CIFAR-10 Batch 3:  \tCost: 0.7318 \tValidation Accuracy: 0.620800\n",
      "Epoch  7, CIFAR-10 Batch 4:  \tCost: 0.8175 \tValidation Accuracy: 0.638400\n",
      "Epoch  7, CIFAR-10 Batch 5:  \tCost: 0.6755 \tValidation Accuracy: 0.637000\n",
      "Epoch  8, CIFAR-10 Batch 1:  \tCost: 0.7515 \tValidation Accuracy: 0.636200\n",
      "Epoch  8, CIFAR-10 Batch 2:  \tCost: 0.7447 \tValidation Accuracy: 0.646200\n",
      "Epoch  8, CIFAR-10 Batch 3:  \tCost: 0.6274 \tValidation Accuracy: 0.641600\n",
      "Epoch  8, CIFAR-10 Batch 4:  \tCost: 0.7314 \tValidation Accuracy: 0.651800\n",
      "Epoch  8, CIFAR-10 Batch 5:  \tCost: 0.6143 \tValidation Accuracy: 0.654000\n",
      "Epoch  9, CIFAR-10 Batch 1:  \tCost: 0.7625 \tValidation Accuracy: 0.641000\n",
      "Epoch  9, CIFAR-10 Batch 2:  \tCost: 0.7409 \tValidation Accuracy: 0.643800\n",
      "Epoch  9, CIFAR-10 Batch 3:  \tCost: 0.6569 \tValidation Accuracy: 0.642200\n",
      "Epoch  9, CIFAR-10 Batch 4:  \tCost: 0.6179 \tValidation Accuracy: 0.649400\n",
      "Epoch  9, CIFAR-10 Batch 5:  \tCost: 0.5458 \tValidation Accuracy: 0.644000\n",
      "Epoch 10, CIFAR-10 Batch 1:  \tCost: 0.6786 \tValidation Accuracy: 0.638400\n",
      "Epoch 10, CIFAR-10 Batch 2:  \tCost: 0.6530 \tValidation Accuracy: 0.641800\n",
      "Epoch 10, CIFAR-10 Batch 3:  \tCost: 0.5082 \tValidation Accuracy: 0.643800\n",
      "Epoch 10, CIFAR-10 Batch 4:  \tCost: 0.6585 \tValidation Accuracy: 0.651000\n",
      "Epoch 10, CIFAR-10 Batch 5:  \tCost: 0.4369 \tValidation Accuracy: 0.646200\n",
      "Epoch 11, CIFAR-10 Batch 1:  \tCost: 0.6403 \tValidation Accuracy: 0.616600\n",
      "Epoch 11, CIFAR-10 Batch 2:  \tCost: 0.5581 \tValidation Accuracy: 0.645800\n",
      "Epoch 11, CIFAR-10 Batch 3:  \tCost: 0.5277 \tValidation Accuracy: 0.624200\n",
      "Epoch 11, CIFAR-10 Batch 4:  \tCost: 0.6203 \tValidation Accuracy: 0.642600\n",
      "Epoch 11, CIFAR-10 Batch 5:  \tCost: 0.4791 \tValidation Accuracy: 0.654600\n",
      "Epoch 12, CIFAR-10 Batch 1:  \tCost: 0.6125 \tValidation Accuracy: 0.641000\n",
      "Epoch 12, CIFAR-10 Batch 2:  \tCost: 0.4547 \tValidation Accuracy: 0.654600\n",
      "Epoch 12, CIFAR-10 Batch 3:  \tCost: 0.5170 \tValidation Accuracy: 0.646400\n",
      "Epoch 12, CIFAR-10 Batch 4:  \tCost: 0.5062 \tValidation Accuracy: 0.652600\n",
      "Epoch 12, CIFAR-10 Batch 5:  \tCost: 0.4512 \tValidation Accuracy: 0.644800\n",
      "Epoch 13, CIFAR-10 Batch 1:  \tCost: 0.5299 \tValidation Accuracy: 0.645000\n",
      "Epoch 13, CIFAR-10 Batch 2:  \tCost: 0.4895 \tValidation Accuracy: 0.648200\n",
      "Epoch 13, CIFAR-10 Batch 3:  \tCost: 0.5495 \tValidation Accuracy: 0.640800\n",
      "Epoch 13, CIFAR-10 Batch 4:  \tCost: 0.4517 \tValidation Accuracy: 0.651800\n",
      "Epoch 13, CIFAR-10 Batch 5:  \tCost: 0.5431 \tValidation Accuracy: 0.635600\n",
      "Epoch 14, CIFAR-10 Batch 1:  \tCost: 0.5666 \tValidation Accuracy: 0.633200\n",
      "Epoch 14, CIFAR-10 Batch 2:  \tCost: 0.4732 \tValidation Accuracy: 0.654400\n",
      "Epoch 14, CIFAR-10 Batch 3:  \tCost: 0.4363 \tValidation Accuracy: 0.640600\n",
      "Epoch 14, CIFAR-10 Batch 4:  \tCost: 0.4468 \tValidation Accuracy: 0.650200\n",
      "Epoch 14, CIFAR-10 Batch 5:  \tCost: 0.3759 \tValidation Accuracy: 0.635400\n",
      "Epoch 15, CIFAR-10 Batch 1:  \tCost: 0.5126 \tValidation Accuracy: 0.642000\n",
      "Epoch 15, CIFAR-10 Batch 2:  \tCost: 0.4145 \tValidation Accuracy: 0.640000\n",
      "Epoch 15, CIFAR-10 Batch 3:  \tCost: 0.3251 \tValidation Accuracy: 0.635600\n",
      "Epoch 15, CIFAR-10 Batch 4:  \tCost: 0.3696 \tValidation Accuracy: 0.642600\n",
      "Epoch 15, CIFAR-10 Batch 5:  \tCost: 0.3819 \tValidation Accuracy: 0.619200\n",
      "Epoch 16, CIFAR-10 Batch 1:  \tCost: 0.5314 \tValidation Accuracy: 0.639600\n",
      "Epoch 16, CIFAR-10 Batch 2:  \tCost: 0.3925 \tValidation Accuracy: 0.632400\n",
      "Epoch 16, CIFAR-10 Batch 3:  \tCost: 0.5548 \tValidation Accuracy: 0.640400\n",
      "Epoch 16, CIFAR-10 Batch 4:  \tCost: 0.4024 \tValidation Accuracy: 0.641400\n",
      "Epoch 16, CIFAR-10 Batch 5:  \tCost: 0.3229 \tValidation Accuracy: 0.624600\n",
      "Epoch 17, CIFAR-10 Batch 1:  \tCost: 0.4758 \tValidation Accuracy: 0.633800\n",
      "Epoch 17, CIFAR-10 Batch 2:  \tCost: 0.3757 \tValidation Accuracy: 0.629000\n",
      "Epoch 17, CIFAR-10 Batch 3:  \tCost: 0.3417 \tValidation Accuracy: 0.626600\n",
      "Epoch 17, CIFAR-10 Batch 4:  \tCost: 0.3210 \tValidation Accuracy: 0.637800\n",
      "Epoch 17, CIFAR-10 Batch 5:  \tCost: 0.3261 \tValidation Accuracy: 0.638600\n",
      "Epoch 18, CIFAR-10 Batch 1:  \tCost: 0.4660 \tValidation Accuracy: 0.619800\n",
      "Epoch 18, CIFAR-10 Batch 2:  \tCost: 0.4284 \tValidation Accuracy: 0.634000\n",
      "Epoch 18, CIFAR-10 Batch 3:  \tCost: 0.3013 \tValidation Accuracy: 0.647200\n",
      "Epoch 18, CIFAR-10 Batch 4:  \tCost: 0.3015 \tValidation Accuracy: 0.654600\n",
      "Epoch 18, CIFAR-10 Batch 5:  \tCost: 0.2845 \tValidation Accuracy: 0.638800\n",
      "Epoch 19, CIFAR-10 Batch 1:  \tCost: 0.4532 \tValidation Accuracy: 0.613400\n",
      "Epoch 19, CIFAR-10 Batch 2:  \tCost: 0.3230 \tValidation Accuracy: 0.638600\n",
      "Epoch 19, CIFAR-10 Batch 3:  \tCost: 0.1975 \tValidation Accuracy: 0.641400\n",
      "Epoch 19, CIFAR-10 Batch 4:  \tCost: 0.3517 \tValidation Accuracy: 0.652200\n",
      "Epoch 19, CIFAR-10 Batch 5:  \tCost: 0.3045 \tValidation Accuracy: 0.639800\n",
      "Epoch 20, CIFAR-10 Batch 1:  \tCost: 0.3961 \tValidation Accuracy: 0.637000\n",
      "Epoch 20, CIFAR-10 Batch 2:  \tCost: 0.3104 \tValidation Accuracy: 0.632200\n",
      "Epoch 20, CIFAR-10 Batch 3:  \tCost: 0.1701 \tValidation Accuracy: 0.646200\n",
      "Epoch 20, CIFAR-10 Batch 4:  \tCost: 0.3354 \tValidation Accuracy: 0.651000\n",
      "Epoch 20, CIFAR-10 Batch 5:  \tCost: 0.2309 \tValidation Accuracy: 0.634600\n"
     ]
    }
   ],
   "source": [
    "\"\"\"\n",
    "DON'T MODIFY ANYTHING IN THIS CELL\n",
    "\"\"\"\n",
    "save_model_path = './image_classification'\n",
    "\n",
    "print('Training...')\n",
    "with tf.Session() as sess:\n",
    "    # Initializing the variables\n",
    "    sess.run(tf.global_variables_initializer())\n",
    "    \n",
    "    # Training cycle\n",
    "    for epoch in range(epochs):\n",
    "        # Loop over all batches\n",
    "        n_batches = 5\n",
    "        for batch_i in range(1, n_batches + 1):\n",
    "            for batch_features, batch_labels in helper.load_preprocess_training_batch(batch_i, batch_size):\n",
    "                train_neural_network(sess, optimizer, keep_probability, batch_features, batch_labels)\n",
    "            print('Epoch {:>2}, CIFAR-10 Batch {}:  '.format(epoch + 1, batch_i), end='')\n",
    "            print_stats(sess, batch_features, batch_labels, cost, accuracy)\n",
    "            \n",
    "    # Save Model\n",
    "    saver = tf.train.Saver()\n",
    "    save_path = saver.save(sess, save_model_path)"
   ]
  },
  {
   "cell_type": "markdown",
   "metadata": {},
   "source": [
    "# Checkpoint\n",
    "The model has been saved to disk.\n",
    "## Test Model\n",
    "Test your model against the test dataset.  This will be your final accuracy. You should have an accuracy greater than 50%. If you don't, keep tweaking the model architecture and parameters."
   ]
  },
  {
   "cell_type": "code",
   "execution_count": 20,
   "metadata": {},
   "outputs": [
    {
     "name": "stdout",
     "output_type": "stream",
     "text": [
      "Testing Accuracy: 0.6344546178343949\n",
      "\n"
     ]
    },
    {
     "data": {
      "image/png": "[encoded data removed]",
      "text/plain": [
       "<matplotlib.figure.Figure at 0x7f842a440780>"
      ]
     },
     "metadata": {
      "image/png": {
       "height": 319,
       "width": 355
      }
     },
     "output_type": "display_data"
    }
   ],
   "source": [
    "\"\"\"\n",
    "DON'T MODIFY ANYTHING IN THIS CELL\n",
    "\"\"\"\n",
    "%matplotlib inline\n",
    "%config InlineBackend.figure_format = 'retina'\n",
    "\n",
    "import tensorflow as tf\n",
    "import pickle\n",
    "import helper\n",
    "import random\n",
    "import pandas as pd\n",
    "from sklearn.metrics import confusion_matrix\n",
    "\n",
    "# Set batch size if not already set\n",
    "try:\n",
    "    if batch_size:\n",
    "        pass\n",
    "except NameError:\n",
    "    batch_size = 64\n",
    "\n",
    "save_model_path = './image_classification'\n",
    "n_samples = 4\n",
    "top_n_predictions = 3\n",
    "\n",
    "def test_model():\n",
    "    \"\"\"\n",
    "    Test the saved model against the test dataset\n",
    "    \"\"\"\n",
    "\n",
    "    test_features, test_labels = pickle.load(open('preprocess_training.p', mode='rb'))\n",
    "    loaded_graph = tf.Graph()\n",
    "    \n",
    "\n",
    "    with tf.Session(graph=loaded_graph) as sess:\n",
    "        # Load model\n",
    "        loader = tf.train.import_meta_graph(save_model_path + '.meta')\n",
    "        loader.restore(sess, save_model_path)\n",
    "\n",
    "        # Get Tensors from loaded model\n",
    "        loaded_x = loaded_graph.get_tensor_by_name('x:0')\n",
    "        loaded_y = loaded_graph.get_tensor_by_name('y:0')\n",
    "        loaded_keep_prob = loaded_graph.get_tensor_by_name('keep_prob:0')\n",
    "        loaded_logits = loaded_graph.get_tensor_by_name('logits:0')\n",
    "        loaded_acc = loaded_graph.get_tensor_by_name('accuracy:0')\n",
    "        \n",
    "        # Get accuracy in batches for memory limitations\n",
    "        test_batch_acc_total = 0\n",
    "        test_batch_count = 0\n",
    "        \n",
    "        for train_feature_batch, train_label_batch in helper.batch_features_labels(test_features, test_labels, batch_size):\n",
    "            test_batch_acc_total += sess.run(\n",
    "                loaded_acc,\n",
    "                feed_dict={loaded_x: train_feature_batch, loaded_y: train_label_batch, loaded_keep_prob: 1.0})\n",
    "            test_batch_count += 1\n",
    "\n",
    "        print('Testing Accuracy: {}\\n'.format(test_batch_acc_total/test_batch_count))\n",
    "\n",
    "        # Print Random Samples\n",
    "        random_test_features, random_test_labels = tuple(zip(*random.sample(list(zip(test_features, test_labels)), n_samples)))\n",
    "        random_test_predictions = sess.run(\n",
    "            tf.nn.top_k(tf.nn.softmax(loaded_logits), top_n_predictions),\n",
    "            feed_dict={loaded_x: random_test_features, loaded_y: random_test_labels, loaded_keep_prob: 1.0})\n",
    "        helper.display_image_predictions(random_test_features, random_test_labels, random_test_predictions)\n",
    "        \n",
    "        \n",
    "        \n",
    "\n",
    "        \n",
    "\n",
    "        \n",
    "        \n",
    "        \n",
    "\n",
    "        \n",
    "\n",
    "        \n",
    "\n",
    "test_model()"
   ]
  },
  {
   "cell_type": "code",
   "execution_count": 1,
   "metadata": {},
   "outputs": [
    {
     "name": "stdout",
     "output_type": "stream",
     "text": [
      "####### Calculating on the /gpu:0 #######\n",
      "[[ 130.      129.25    123.25   ...,  131.25    128.375   127.625 ]\n",
      " [ 121.6875  121.875   114.25   ...,  119.4375  124.875   119.875 ]\n",
      " [ 129.875   125.6875  119.625  ...,  126.375   127.875   123.6875]\n",
      " ..., \n",
      " [ 125.3125  123.5     117.1875 ...,  123.125   124.5     120.3125]\n",
      " [ 134.875   134.375   127.5625 ...,  133.25    134.375   132.5   ]\n",
      " [ 133.75    127.      123.     ...,  127.375   133.5     126.8125]]\n",
      "{'/gpu:0': [0.6893143653869629], '/cpu:0': []}\n",
      "####### Calculating on the /cpu:0 #######\n",
      "[[ 129.25    130.375   126.     ...,  128.      129.375   133.75  ]\n",
      " [ 125.875   127.875   123.125  ...,  124.5     128.125   127.0625]\n",
      " [ 131.      131.5     126.25   ...,  133.625   132.5     133.875 ]\n",
      " ..., \n",
      " [ 131.875   127.75    125.375  ...,  129.5     127.875   132.    ]\n",
      " [ 126.75    125.5     122.625  ...,  127.5     125.4375  129.625 ]\n",
      " [ 120.75    122.875   118.625  ...,  124.9375  123.25    123.6875]]\n",
      "{'/gpu:0': [0.6893143653869629], '/cpu:0': [0.4194204807281494]}\n",
      "####### Calculating on the /gpu:0 #######\n",
      "[[ 143.25    132.625   142.25   ...,  126.8125  143.25    132.375 ]\n",
      " [ 144.      140.      146.125  ...,  132.625   145.125   135.    ]\n",
      " [ 140.      135.      134.     ...,  126.3125  141.25    130.75  ]\n",
      " ..., \n",
      " [ 137.125   135.375   139.     ...,  129.25    142.625   131.25  ]\n",
      " [ 137.375   136.      147.     ...,  124.875   140.25    131.75  ]\n",
      " [ 138.375   135.125   143.25   ...,  129.875   141.      133.25  ]]\n",
      "{'/gpu:0': [0.6893143653869629, 0.005979776382446289], '/cpu:0': [0.4194204807281494]}\n",
      "####### Calculating on the /cpu:0 #######\n",
      "[[ 132.     136.125  133.375 ...,  132.75   135.375  138.375]\n",
      " [ 138.875  135.     132.125 ...,  133.75   142.125  140.125]\n",
      " [ 135.125  141.5    134.5   ...,  134.75   138.875  141.75 ]\n",
      " ..., \n",
      " [ 132.375  134.75   131.25  ...,  128.625  138.25   136.125]\n",
      " [ 135.875  133.75   135.625 ...,  132.5    141.25   141.75 ]\n",
      " [ 134.875  141.375  136.5   ...,  135.     140.25   141.75 ]]\n",
      "{'/gpu:0': [0.6893143653869629, 0.005979776382446289], '/cpu:0': [0.4194204807281494, 0.5282423496246338]}\n",
      "####### Calculating on the /gpu:0 #######\n",
      "[[ 158.5    154.875  152.25  ...,  162.     157.25   149.5  ]\n",
      " [ 148.375  152.75   149.75  ...,  150.75   148.75   148.   ]\n",
      " [ 143.375  146.75   139.625 ...,  145.75   143.625  138.125]\n",
      " ..., \n",
      " [ 145.375  148.75   138.75  ...,  147.75   141.75   139.5  ]\n",
      " [ 148.875  151.5    145.375 ...,  156.75   147.25   145.75 ]\n",
      " [ 152.875  152.     150.625 ...,  163.5    155.     148.5  ]]\n",
      "{'/gpu:0': [0.6893143653869629, 0.005979776382446289, 0.006629467010498047], '/cpu:0': [0.4194204807281494, 0.5282423496246338]}\n",
      "####### Calculating on the /cpu:0 #######\n",
      "[[ 150.25   143.25   141.875 ...,  140.875  138.375  140.5  ]\n",
      " [ 156.625  149.875  154.375 ...,  145.25   144.875  149.5  ]\n",
      " [ 154.25   145.75   151.5   ...,  147.75   141.75   150.75 ]\n",
      " ..., \n",
      " [ 164.     152.     153.    ...,  147.25   147.5    154.   ]\n",
      " [ 161.25   147.25   150.75  ...,  151.5    143.625  154.25 ]\n",
      " [ 166.375  154.75   155.75  ...,  153.25   149.     158.   ]]\n",
      "{'/gpu:0': [0.6893143653869629, 0.005979776382446289, 0.006629467010498047], '/cpu:0': [0.4194204807281494, 0.5282423496246338, 0.6786472797393799]}\n",
      "####### Calculating on the /gpu:0 #######\n",
      "[[ 169.75   164.125  167.25  ...,  161.     164.75   163.375]\n",
      " [ 165.75   170.5    169.75  ...,  160.125  166.125  165.375]\n",
      " [ 168.75   167.625  170.25  ...,  162.25   165.375  164.5  ]\n",
      " ..., \n",
      " [ 168.25   166.5    164.5   ...,  159.75   171.5    166.   ]\n",
      " [ 166.25   165.625  165.375 ...,  158.375  165.75   166.25 ]\n",
      " [ 165.5    165.25   165.25  ...,  157.125  167.125  164.375]]\n",
      "{'/gpu:0': [0.6893143653869629, 0.005979776382446289, 0.006629467010498047, 0.008687019348144531], '/cpu:0': [0.4194204807281494, 0.5282423496246338, 0.6786472797393799]}\n",
      "####### Calculating on the /cpu:0 #######\n",
      "[[ 164.875  173.     164.5   ...,  167.25   163.875  169.75 ]\n",
      " [ 165.75   180.875  166.75  ...,  171.125  171.25   177.5  ]\n",
      " [ 155.75   169.375  157.125 ...,  161.375  159.125  165.375]\n",
      " ..., \n",
      " [ 156.875  168.125  154.75  ...,  161.875  156.     156.875]\n",
      " [ 161.625  171.625  160.625 ...,  165.5    164.875  165.375]\n",
      " [ 163.875  173.75   158.    ...,  163.625  163.75   165.875]]\n",
      "{'/gpu:0': [0.6893143653869629, 0.005979776382446289, 0.006629467010498047, 0.008687019348144531], '/cpu:0': [0.4194204807281494, 0.5282423496246338, 0.6786472797393799, 0.8988971710205078]}\n",
      "####### Calculating on the /gpu:0 #######\n",
      "[[ 176.625  179.875  178.75  ...,  184.75   177.     183.25 ]\n",
      " [ 171.625  180.875  182.25  ...,  183.875  176.75   185.625]\n",
      " [ 171.125  184.125  180.125 ...,  183.125  178.125  186.5  ]\n",
      " ..., \n",
      " [ 175.875  185.375  180.875 ...,  184.5    174.75   187.   ]\n",
      " [ 169.125  178.     179.5   ...,  180.375  173.25   179.25 ]\n",
      " [ 168.875  181.5    177.5   ...,  177.125  175.875  183.   ]]\n",
      "{'/gpu:0': [0.6893143653869629, 0.005979776382446289, 0.006629467010498047, 0.008687019348144531, 0.009525537490844727], '/cpu:0': [0.4194204807281494, 0.5282423496246338, 0.6786472797393799, 0.8988971710205078]}\n",
      "####### Calculating on the /cpu:0 #######\n",
      "[[ 170.625  173.875  178.125 ...,  166.75   172.75   176.875]\n",
      " [ 173.     187.25   179.125 ...,  178.5    173.     178.625]\n",
      " [ 172.25   182.875  170.625 ...,  168.5    170.125  173.75 ]\n",
      " ..., \n",
      " [ 172.125  179.5    172.5   ...,  174.5    170.625  176.125]\n",
      " [ 174.75   176.     176.625 ...,  174.75   168.25   174.   ]\n",
      " [ 164.875  176.625  165.875 ...,  163.5    167.25   171.   ]]\n",
      "{'/gpu:0': [0.6893143653869629, 0.005979776382446289, 0.006629467010498047, 0.008687019348144531, 0.009525537490844727], '/cpu:0': [0.4194204807281494, 0.5282423496246338, 0.6786472797393799, 0.8988971710205078, 1.1224393844604492]}\n",
      "####### Calculating on the /gpu:0 #######\n",
      "[[ 179.625  187.5    191.5   ...,  184.5    182.125  183.5  ]\n",
      " [ 184.375  185.625  186.875 ...,  178.5    182.     184.   ]\n",
      " [ 191.875  193.125  198.    ...,  194.     193.75   193.5  ]\n",
      " ..., \n",
      " [ 190.     185.875  193.25  ...,  190.375  185.125  183.5  ]\n",
      " [ 183.5    191.625  198.25  ...,  186.75   185.125  189.75 ]\n",
      " [ 183.75   184.625  193.    ...,  184.625  180.875  183.   ]]\n",
      "{'/gpu:0': [0.6893143653869629, 0.005979776382446289, 0.006629467010498047, 0.008687019348144531, 0.009525537490844727, 0.012443780899047852], '/cpu:0': [0.4194204807281494, 0.5282423496246338, 0.6786472797393799, 0.8988971710205078, 1.1224393844604492]}\n",
      "####### Calculating on the /cpu:0 #######\n",
      "[[ 184.5    188.375  184.25  ...,  188.     185.375  183.625]\n",
      " [ 183.75   186.875  187.625 ...,  187.25   187.5    185.25 ]\n",
      " [ 187.625  194.375  187.25  ...,  194.5    187.25   186.125]\n",
      " ..., \n",
      " [ 183.875  186.125  187.875 ...,  188.25   191.875  186.75 ]\n",
      " [ 183.25   187.     186.    ...,  186.     185.875  185.875]\n",
      " [ 186.25   186.     181.625 ...,  182.5    180.     186.375]]\n",
      "{'/gpu:0': [0.6893143653869629, 0.005979776382446289, 0.006629467010498047, 0.008687019348144531, 0.009525537490844727, 0.012443780899047852], '/cpu:0': [0.4194204807281494, 0.5282423496246338, 0.6786472797393799, 0.8988971710205078, 1.1224393844604492, 1.3577327728271484]}\n",
      "####### Calculating on the /gpu:0 #######\n",
      "[[ 202.375  198.25   197.75  ...,  211.875  201.5    202.375]\n",
      " [ 195.     193.875  202.5   ...,  205.875  201.5    202.125]\n",
      " [ 195.125  193.375  196.125 ...,  204.     195.375  200.5  ]\n",
      " ..., \n",
      " [ 194.     187.125  194.875 ...,  203.25   191.375  198.125]\n",
      " [ 192.5    191.625  196.    ...,  205.875  193.375  197.125]\n",
      " [ 194.375  193.     193.375 ...,  205.375  191.875  193.75 ]]\n",
      "{'/gpu:0': [0.6893143653869629, 0.005979776382446289, 0.006629467010498047, 0.008687019348144531, 0.009525537490844727, 0.012443780899047852, 0.012958288192749023], '/cpu:0': [0.4194204807281494, 0.5282423496246338, 0.6786472797393799, 0.8988971710205078, 1.1224393844604492, 1.3577327728271484]}\n",
      "####### Calculating on the /cpu:0 #######\n",
      "[[ 189.625  208.     198.625 ...,  193.375  189.125  198.25 ]\n",
      " [ 195.75   208.5    200.75  ...,  201.75   196.25   200.   ]\n",
      " [ 193.375  205.375  203.5   ...,  194.25   194.5    199.   ]\n",
      " ..., \n",
      " [ 196.875  206.875  201.5   ...,  197.75   193.5    200.25 ]\n",
      " [ 191.5    202.875  197.25  ...,  194.75   192.25   198.875]\n",
      " [ 191.5    199.625  200.5   ...,  197.5    194.875  199.25 ]]\n",
      "{'/gpu:0': [0.6893143653869629, 0.005979776382446289, 0.006629467010498047, 0.008687019348144531, 0.009525537490844727, 0.012443780899047852, 0.012958288192749023], '/cpu:0': [0.4194204807281494, 0.5282423496246338, 0.6786472797393799, 0.8988971710205078, 1.1224393844604492, 1.3577327728271484, 1.6703872680664062]}\n"
     ]
    },
    {
     "data": {
      "image/png": "[encoded data removed]",
      "text/plain": [
       "<matplotlib.figure.Figure at 0x7f5168a44ef0>"
      ]
     },
     "metadata": {},
     "output_type": "display_data"
    }
   ],
   "source": []
  },
  {
   "cell_type": "code",
   "execution_count": null,
   "metadata": {
    "collapsed": true
   },
   "outputs": [],
   "source": []
  },
  {
   "cell_type": "code",
   "execution_count": null,
   "metadata": {
    "collapsed": true
   },
   "outputs": [],
   "source": []
  }
 ],
 "metadata": {
  "kernelspec": {
   "display_name": "Python 3",
   "language": "python",
   "name": "python3"
  },
  "language_info": {
   "codemirror_mode": {
    "name": "ipython",
    "version": 3
   },
   "file_extension": ".py",
   "mimetype": "text/x-python",
   "name": "python",
   "nbconvert_exporter": "python",
   "pygments_lexer": "ipython3",
   "version": "3.5.3"
  }
 },
 "nbformat": 4,
 "nbformat_minor": 1
}
